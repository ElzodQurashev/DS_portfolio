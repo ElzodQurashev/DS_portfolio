{
  "nbformat": 4,
  "nbformat_minor": 0,
  "metadata": {
    "colab": {
      "name": "05-ml-05-amaliyot.ipynb",
      "provenance": [],
      "collapsed_sections": [],
      "include_colab_link": true
    },
    "kernelspec": {
      "name": "python3",
      "display_name": "Python 3"
    },
    "language_info": {
      "name": "python"
    }
  },
  "cells": [
    {
      "cell_type": "markdown",
      "metadata": {
        "id": "view-in-github",
        "colab_type": "text"
      },
      "source": [
        "<a href=\"https://colab.research.google.com/github/ElzodQurashev/DS_portfolio/blob/main/05_ml_05_amaliyot.ipynb\" target=\"_parent\"><img src=\"https://colab.research.google.com/assets/colab-badge.svg\" alt=\"Open In Colab\"/></a>"
      ]
    },
    {
      "cell_type": "markdown",
      "source": [
        "![Imgur](https://i.imgur.com/5pXzCIu.png)\n",
        "\n",
        "# Data Science va Sun'iy Intellekt Praktikum\n",
        "\n",
        "## 5-MODUL. Machine Learning\n",
        "\n",
        "### Portfolio uchun vazifa: Toshkent shahrida uylarning narxini aniqlash.\n",
        "\n",
        "Ushbu amaliyotda sizning vazifangiz berilgan ma`lumotlar asosida Toshkent shahridagi uylarning narxini aniqlash."
      ],
      "metadata": {
        "id": "tgzC39RUcDLy"
      }
    },
    {
      "cell_type": "code",
      "execution_count": 136,
      "metadata": {
        "colab": {
          "base_uri": "https://localhost:8080/",
          "height": 206
        },
        "id": "ZNYzfPKab-o4",
        "outputId": "c4354a54-4c22-442d-be73-b4bf1d822b1a"
      },
      "outputs": [
        {
          "output_type": "execute_result",
          "data": {
            "text/plain": [
              "                                            location       district  rooms  \\\n",
              "0  город Ташкент, Юнусабадский район, Юнусабад 8-...   Юнусабадский      3   \n",
              "1  город Ташкент, Яккасарайский район, 1-й тупик ...  Яккасарайский      2   \n",
              "2  город Ташкент, Чиланзарский район, Чиланзар 2-...   Чиланзарский      2   \n",
              "3  город Ташкент, Чиланзарский район, Чиланзар 9-...   Чиланзарский      3   \n",
              "4  город Ташкент, Чиланзарский район, площадь Актепа   Чиланзарский      3   \n",
              "\n",
              "  size  level  max_levels  price  \n",
              "0   57      4           4  52000  \n",
              "1   52      4           5  56000  \n",
              "2   42      4           4  37000  \n",
              "3   65      1           4  49500  \n",
              "4   70      3           5  55000  "
            ],
            "text/html": [
              "\n",
              "  <div id=\"df-f7f39a01-df7f-41b9-8daf-3d7701d9b179\">\n",
              "    <div class=\"colab-df-container\">\n",
              "      <div>\n",
              "<style scoped>\n",
              "    .dataframe tbody tr th:only-of-type {\n",
              "        vertical-align: middle;\n",
              "    }\n",
              "\n",
              "    .dataframe tbody tr th {\n",
              "        vertical-align: top;\n",
              "    }\n",
              "\n",
              "    .dataframe thead th {\n",
              "        text-align: right;\n",
              "    }\n",
              "</style>\n",
              "<table border=\"1\" class=\"dataframe\">\n",
              "  <thead>\n",
              "    <tr style=\"text-align: right;\">\n",
              "      <th></th>\n",
              "      <th>location</th>\n",
              "      <th>district</th>\n",
              "      <th>rooms</th>\n",
              "      <th>size</th>\n",
              "      <th>level</th>\n",
              "      <th>max_levels</th>\n",
              "      <th>price</th>\n",
              "    </tr>\n",
              "  </thead>\n",
              "  <tbody>\n",
              "    <tr>\n",
              "      <th>0</th>\n",
              "      <td>город Ташкент, Юнусабадский район, Юнусабад 8-...</td>\n",
              "      <td>Юнусабадский</td>\n",
              "      <td>3</td>\n",
              "      <td>57</td>\n",
              "      <td>4</td>\n",
              "      <td>4</td>\n",
              "      <td>52000</td>\n",
              "    </tr>\n",
              "    <tr>\n",
              "      <th>1</th>\n",
              "      <td>город Ташкент, Яккасарайский район, 1-й тупик ...</td>\n",
              "      <td>Яккасарайский</td>\n",
              "      <td>2</td>\n",
              "      <td>52</td>\n",
              "      <td>4</td>\n",
              "      <td>5</td>\n",
              "      <td>56000</td>\n",
              "    </tr>\n",
              "    <tr>\n",
              "      <th>2</th>\n",
              "      <td>город Ташкент, Чиланзарский район, Чиланзар 2-...</td>\n",
              "      <td>Чиланзарский</td>\n",
              "      <td>2</td>\n",
              "      <td>42</td>\n",
              "      <td>4</td>\n",
              "      <td>4</td>\n",
              "      <td>37000</td>\n",
              "    </tr>\n",
              "    <tr>\n",
              "      <th>3</th>\n",
              "      <td>город Ташкент, Чиланзарский район, Чиланзар 9-...</td>\n",
              "      <td>Чиланзарский</td>\n",
              "      <td>3</td>\n",
              "      <td>65</td>\n",
              "      <td>1</td>\n",
              "      <td>4</td>\n",
              "      <td>49500</td>\n",
              "    </tr>\n",
              "    <tr>\n",
              "      <th>4</th>\n",
              "      <td>город Ташкент, Чиланзарский район, площадь Актепа</td>\n",
              "      <td>Чиланзарский</td>\n",
              "      <td>3</td>\n",
              "      <td>70</td>\n",
              "      <td>3</td>\n",
              "      <td>5</td>\n",
              "      <td>55000</td>\n",
              "    </tr>\n",
              "  </tbody>\n",
              "</table>\n",
              "</div>\n",
              "      <button class=\"colab-df-convert\" onclick=\"convertToInteractive('df-f7f39a01-df7f-41b9-8daf-3d7701d9b179')\"\n",
              "              title=\"Convert this dataframe to an interactive table.\"\n",
              "              style=\"display:none;\">\n",
              "        \n",
              "  <svg xmlns=\"http://www.w3.org/2000/svg\" height=\"24px\"viewBox=\"0 0 24 24\"\n",
              "       width=\"24px\">\n",
              "    <path d=\"M0 0h24v24H0V0z\" fill=\"none\"/>\n",
              "    <path d=\"M18.56 5.44l.94 2.06.94-2.06 2.06-.94-2.06-.94-.94-2.06-.94 2.06-2.06.94zm-11 1L8.5 8.5l.94-2.06 2.06-.94-2.06-.94L8.5 2.5l-.94 2.06-2.06.94zm10 10l.94 2.06.94-2.06 2.06-.94-2.06-.94-.94-2.06-.94 2.06-2.06.94z\"/><path d=\"M17.41 7.96l-1.37-1.37c-.4-.4-.92-.59-1.43-.59-.52 0-1.04.2-1.43.59L10.3 9.45l-7.72 7.72c-.78.78-.78 2.05 0 2.83L4 21.41c.39.39.9.59 1.41.59.51 0 1.02-.2 1.41-.59l7.78-7.78 2.81-2.81c.8-.78.8-2.07 0-2.86zM5.41 20L4 18.59l7.72-7.72 1.47 1.35L5.41 20z\"/>\n",
              "  </svg>\n",
              "      </button>\n",
              "      \n",
              "  <style>\n",
              "    .colab-df-container {\n",
              "      display:flex;\n",
              "      flex-wrap:wrap;\n",
              "      gap: 12px;\n",
              "    }\n",
              "\n",
              "    .colab-df-convert {\n",
              "      background-color: #E8F0FE;\n",
              "      border: none;\n",
              "      border-radius: 50%;\n",
              "      cursor: pointer;\n",
              "      display: none;\n",
              "      fill: #1967D2;\n",
              "      height: 32px;\n",
              "      padding: 0 0 0 0;\n",
              "      width: 32px;\n",
              "    }\n",
              "\n",
              "    .colab-df-convert:hover {\n",
              "      background-color: #E2EBFA;\n",
              "      box-shadow: 0px 1px 2px rgba(60, 64, 67, 0.3), 0px 1px 3px 1px rgba(60, 64, 67, 0.15);\n",
              "      fill: #174EA6;\n",
              "    }\n",
              "\n",
              "    [theme=dark] .colab-df-convert {\n",
              "      background-color: #3B4455;\n",
              "      fill: #D2E3FC;\n",
              "    }\n",
              "\n",
              "    [theme=dark] .colab-df-convert:hover {\n",
              "      background-color: #434B5C;\n",
              "      box-shadow: 0px 1px 3px 1px rgba(0, 0, 0, 0.15);\n",
              "      filter: drop-shadow(0px 1px 2px rgba(0, 0, 0, 0.3));\n",
              "      fill: #FFFFFF;\n",
              "    }\n",
              "  </style>\n",
              "\n",
              "      <script>\n",
              "        const buttonEl =\n",
              "          document.querySelector('#df-f7f39a01-df7f-41b9-8daf-3d7701d9b179 button.colab-df-convert');\n",
              "        buttonEl.style.display =\n",
              "          google.colab.kernel.accessAllowed ? 'block' : 'none';\n",
              "\n",
              "        async function convertToInteractive(key) {\n",
              "          const element = document.querySelector('#df-f7f39a01-df7f-41b9-8daf-3d7701d9b179');\n",
              "          const dataTable =\n",
              "            await google.colab.kernel.invokeFunction('convertToInteractive',\n",
              "                                                     [key], {});\n",
              "          if (!dataTable) return;\n",
              "\n",
              "          const docLinkHtml = 'Like what you see? Visit the ' +\n",
              "            '<a target=\"_blank\" href=https://colab.research.google.com/notebooks/data_table.ipynb>data table notebook</a>'\n",
              "            + ' to learn more about interactive tables.';\n",
              "          element.innerHTML = '';\n",
              "          dataTable['output_type'] = 'display_data';\n",
              "          await google.colab.output.renderOutput(dataTable, element);\n",
              "          const docLink = document.createElement('div');\n",
              "          docLink.innerHTML = docLinkHtml;\n",
              "          element.appendChild(docLink);\n",
              "        }\n",
              "      </script>\n",
              "    </div>\n",
              "  </div>\n",
              "  "
            ]
          },
          "metadata": {},
          "execution_count": 136
        }
      ],
      "source": [
        "import numpy as np\n",
        "import pandas as pd\n",
        "df = pd.read_csv('https://raw.githubusercontent.com/anvarnarz/praktikum_datasets/main/housing_data_08-02-2021.csv')\n",
        "df.head()"
      ]
    },
    {
      "cell_type": "markdown",
      "source": [
        "# Ustunlar ta'rifi\n",
        "- `location` - sotilayotgan uy manzili\n",
        "- `district` - uy joylashgan tuman\n",
        "- `rooms` - xonalar soni\n",
        "- `size` - uy maydoni (kv.m)\n",
        "- `level` - uy joylashgan qavat\n",
        "- `max_levels` - ja'mi qavatlar soni\n",
        "- `price` - uy narxi\n",
        "\n",
        "## Vazifani CRSIP-DM Metolodgiyasi yordamida bajaring.\n",
        "<img src=\"https://i.imgur.com/dzZnnYi.png\" alt=\"CRISP-DM\" width=\"800\"/>"
      ],
      "metadata": {
        "id": "A1wt67xRcPcB"
      }
    },
    {
      "cell_type": "markdown",
      "source": [
        "# **Tozalash**"
      ],
      "metadata": {
        "id": "GyCJjOIKkyKr"
      }
    },
    {
      "cell_type": "code",
      "source": [
        "df.info()"
      ],
      "metadata": {
        "colab": {
          "base_uri": "https://localhost:8080/"
        },
        "id": "8BvCKDw_dpi5",
        "outputId": "3a76ec01-877a-4a08-9212-7937958106a2"
      },
      "execution_count": 137,
      "outputs": [
        {
          "output_type": "stream",
          "name": "stdout",
          "text": [
            "<class 'pandas.core.frame.DataFrame'>\n",
            "RangeIndex: 7565 entries, 0 to 7564\n",
            "Data columns (total 7 columns):\n",
            " #   Column      Non-Null Count  Dtype \n",
            "---  ------      --------------  ----- \n",
            " 0   location    7565 non-null   object\n",
            " 1   district    7565 non-null   object\n",
            " 2   rooms       7565 non-null   int64 \n",
            " 3   size        7565 non-null   object\n",
            " 4   level       7565 non-null   int64 \n",
            " 5   max_levels  7565 non-null   int64 \n",
            " 6   price       7565 non-null   object\n",
            "dtypes: int64(3), object(4)\n",
            "memory usage: 413.8+ KB\n"
          ]
        }
      ]
    },
    {
      "cell_type": "markdown",
      "source": [
        "`\"size\" va \"price\" ustunlarini \"Dtype - int64\" ko'rinishiga o'tkazib olamiz`"
      ],
      "metadata": {
        "id": "tXixHjdUDzo9"
      }
    },
    {
      "cell_type": "code",
      "source": [
        "# df['size'].astype(float)"
      ],
      "metadata": {
        "id": "z-TJIkUXdrGZ"
      },
      "execution_count": 138,
      "outputs": []
    },
    {
      "cell_type": "markdown",
      "source": [
        "`astype() metodi ↑ xatolik qaytarganda muammoni aniqlab oldim`"
      ],
      "metadata": {
        "id": "jQDTGOcML-OO"
      }
    },
    {
      "cell_type": "code",
      "source": [
        "df[df['size']=='Площадьземли:1сот'].index"
      ],
      "metadata": {
        "colab": {
          "base_uri": "https://localhost:8080/"
        },
        "id": "o8oSP9dfdzDx",
        "outputId": "4a2c322f-4c7a-4256-8337-0a573ec56dd9"
      },
      "execution_count": 139,
      "outputs": [
        {
          "output_type": "execute_result",
          "data": {
            "text/plain": [
              "Int64Index([5347], dtype='int64')"
            ]
          },
          "metadata": {},
          "execution_count": 139
        }
      ]
    },
    {
      "cell_type": "code",
      "source": [
        "df.drop(5347, inplace=True)"
      ],
      "metadata": {
        "id": "JYCkmdfZd6pi"
      },
      "execution_count": 140,
      "outputs": []
    },
    {
      "cell_type": "code",
      "source": [
        "df['size'] = df['size'].astype(float)"
      ],
      "metadata": {
        "id": "UxBQmQwceIiB"
      },
      "execution_count": 141,
      "outputs": []
    },
    {
      "cell_type": "code",
      "source": [
        "df['size'] = df['size'].astype(int)"
      ],
      "metadata": {
        "id": "8SrdA3a1etoN"
      },
      "execution_count": 142,
      "outputs": []
    },
    {
      "cell_type": "code",
      "source": [
        "df.info()"
      ],
      "metadata": {
        "colab": {
          "base_uri": "https://localhost:8080/"
        },
        "id": "S_2Rs-a4eQvZ",
        "outputId": "0017fd23-0f54-4306-cb1e-c06de0d54d7a"
      },
      "execution_count": 143,
      "outputs": [
        {
          "output_type": "stream",
          "name": "stdout",
          "text": [
            "<class 'pandas.core.frame.DataFrame'>\n",
            "Int64Index: 7564 entries, 0 to 7564\n",
            "Data columns (total 7 columns):\n",
            " #   Column      Non-Null Count  Dtype \n",
            "---  ------      --------------  ----- \n",
            " 0   location    7564 non-null   object\n",
            " 1   district    7564 non-null   object\n",
            " 2   rooms       7564 non-null   int64 \n",
            " 3   size        7564 non-null   int64 \n",
            " 4   level       7564 non-null   int64 \n",
            " 5   max_levels  7564 non-null   int64 \n",
            " 6   price       7564 non-null   object\n",
            "dtypes: int64(4), object(3)\n",
            "memory usage: 472.8+ KB\n"
          ]
        }
      ]
    },
    {
      "cell_type": "code",
      "source": [
        "# df['price'].astype(int)"
      ],
      "metadata": {
        "id": "pieZwfSneUgh"
      },
      "execution_count": 144,
      "outputs": []
    },
    {
      "cell_type": "markdown",
      "source": [
        "`astype() metodi ↑ xatolik qaytarganda muammoni aniqlab oldim` "
      ],
      "metadata": {
        "id": "ggqAU9z2Ltjn"
      }
    },
    {
      "cell_type": "code",
      "source": [
        "len(df[df['price']=='Договорная'])"
      ],
      "metadata": {
        "colab": {
          "base_uri": "https://localhost:8080/"
        },
        "id": "iKTV_GX1e49i",
        "outputId": "4e974d6f-d92c-437a-9d58-0b444a304a9d"
      },
      "execution_count": 145,
      "outputs": [
        {
          "output_type": "execute_result",
          "data": {
            "text/plain": [
              "99"
            ]
          },
          "metadata": {},
          "execution_count": 145
        }
      ]
    },
    {
      "cell_type": "code",
      "source": [
        ""
      ],
      "metadata": {
        "id": "gduaJJmPFHCQ"
      },
      "execution_count": 145,
      "outputs": []
    },
    {
      "cell_type": "code",
      "source": [
        "df.drop(df[df['price']=='Договорная'].index, inplace=True)"
      ],
      "metadata": {
        "id": "zpRNBJyxfB1K"
      },
      "execution_count": 146,
      "outputs": []
    },
    {
      "cell_type": "code",
      "source": [
        "df.price = df['price'].astype(int)"
      ],
      "metadata": {
        "id": "CHis-l9qg7zP"
      },
      "execution_count": 147,
      "outputs": []
    },
    {
      "cell_type": "code",
      "source": [
        "df.info()"
      ],
      "metadata": {
        "colab": {
          "base_uri": "https://localhost:8080/"
        },
        "id": "8l-zxC5Wg9s6",
        "outputId": "2f5bcaea-32c9-49b8-d455-74b1ef3a0d6f"
      },
      "execution_count": 148,
      "outputs": [
        {
          "output_type": "stream",
          "name": "stdout",
          "text": [
            "<class 'pandas.core.frame.DataFrame'>\n",
            "Int64Index: 7465 entries, 0 to 7564\n",
            "Data columns (total 7 columns):\n",
            " #   Column      Non-Null Count  Dtype \n",
            "---  ------      --------------  ----- \n",
            " 0   location    7465 non-null   object\n",
            " 1   district    7465 non-null   object\n",
            " 2   rooms       7465 non-null   int64 \n",
            " 3   size        7465 non-null   int64 \n",
            " 4   level       7465 non-null   int64 \n",
            " 5   max_levels  7465 non-null   int64 \n",
            " 6   price       7465 non-null   int64 \n",
            "dtypes: int64(5), object(2)\n",
            "memory usage: 466.6+ KB\n"
          ]
        }
      ]
    },
    {
      "cell_type": "code",
      "source": [
        "df.describe()"
      ],
      "metadata": {
        "colab": {
          "base_uri": "https://localhost:8080/",
          "height": 300
        },
        "id": "p0NCW1M4hCR5",
        "outputId": "b9cb9841-cb45-4ad3-ac2e-0e3f3cd65c38"
      },
      "execution_count": 149,
      "outputs": [
        {
          "output_type": "execute_result",
          "data": {
            "text/plain": [
              "             rooms          size        level   max_levels         price\n",
              "count  7465.000000   7465.000000  7465.000000  7465.000000  7.465000e+03\n",
              "mean      2.622103    113.524180     3.693771     6.023979  7.132367e+04\n",
              "std       1.083155   1501.158399     2.236905     2.607103  6.405659e+05\n",
              "min       1.000000      1.000000     1.000000     1.000000  2.000000e+00\n",
              "25%       2.000000     50.000000     2.000000     4.000000  3.500000e+04\n",
              "50%       3.000000     65.000000     3.000000     5.000000  4.650000e+04\n",
              "75%       3.000000     85.000000     5.000000     9.000000  6.700000e+04\n",
              "max      10.000000  70000.000000    19.000000    25.000000  5.200000e+07"
            ],
            "text/html": [
              "\n",
              "  <div id=\"df-bcdb4bcd-809a-427e-918c-1f4b4105a085\">\n",
              "    <div class=\"colab-df-container\">\n",
              "      <div>\n",
              "<style scoped>\n",
              "    .dataframe tbody tr th:only-of-type {\n",
              "        vertical-align: middle;\n",
              "    }\n",
              "\n",
              "    .dataframe tbody tr th {\n",
              "        vertical-align: top;\n",
              "    }\n",
              "\n",
              "    .dataframe thead th {\n",
              "        text-align: right;\n",
              "    }\n",
              "</style>\n",
              "<table border=\"1\" class=\"dataframe\">\n",
              "  <thead>\n",
              "    <tr style=\"text-align: right;\">\n",
              "      <th></th>\n",
              "      <th>rooms</th>\n",
              "      <th>size</th>\n",
              "      <th>level</th>\n",
              "      <th>max_levels</th>\n",
              "      <th>price</th>\n",
              "    </tr>\n",
              "  </thead>\n",
              "  <tbody>\n",
              "    <tr>\n",
              "      <th>count</th>\n",
              "      <td>7465.000000</td>\n",
              "      <td>7465.000000</td>\n",
              "      <td>7465.000000</td>\n",
              "      <td>7465.000000</td>\n",
              "      <td>7.465000e+03</td>\n",
              "    </tr>\n",
              "    <tr>\n",
              "      <th>mean</th>\n",
              "      <td>2.622103</td>\n",
              "      <td>113.524180</td>\n",
              "      <td>3.693771</td>\n",
              "      <td>6.023979</td>\n",
              "      <td>7.132367e+04</td>\n",
              "    </tr>\n",
              "    <tr>\n",
              "      <th>std</th>\n",
              "      <td>1.083155</td>\n",
              "      <td>1501.158399</td>\n",
              "      <td>2.236905</td>\n",
              "      <td>2.607103</td>\n",
              "      <td>6.405659e+05</td>\n",
              "    </tr>\n",
              "    <tr>\n",
              "      <th>min</th>\n",
              "      <td>1.000000</td>\n",
              "      <td>1.000000</td>\n",
              "      <td>1.000000</td>\n",
              "      <td>1.000000</td>\n",
              "      <td>2.000000e+00</td>\n",
              "    </tr>\n",
              "    <tr>\n",
              "      <th>25%</th>\n",
              "      <td>2.000000</td>\n",
              "      <td>50.000000</td>\n",
              "      <td>2.000000</td>\n",
              "      <td>4.000000</td>\n",
              "      <td>3.500000e+04</td>\n",
              "    </tr>\n",
              "    <tr>\n",
              "      <th>50%</th>\n",
              "      <td>3.000000</td>\n",
              "      <td>65.000000</td>\n",
              "      <td>3.000000</td>\n",
              "      <td>5.000000</td>\n",
              "      <td>4.650000e+04</td>\n",
              "    </tr>\n",
              "    <tr>\n",
              "      <th>75%</th>\n",
              "      <td>3.000000</td>\n",
              "      <td>85.000000</td>\n",
              "      <td>5.000000</td>\n",
              "      <td>9.000000</td>\n",
              "      <td>6.700000e+04</td>\n",
              "    </tr>\n",
              "    <tr>\n",
              "      <th>max</th>\n",
              "      <td>10.000000</td>\n",
              "      <td>70000.000000</td>\n",
              "      <td>19.000000</td>\n",
              "      <td>25.000000</td>\n",
              "      <td>5.200000e+07</td>\n",
              "    </tr>\n",
              "  </tbody>\n",
              "</table>\n",
              "</div>\n",
              "      <button class=\"colab-df-convert\" onclick=\"convertToInteractive('df-bcdb4bcd-809a-427e-918c-1f4b4105a085')\"\n",
              "              title=\"Convert this dataframe to an interactive table.\"\n",
              "              style=\"display:none;\">\n",
              "        \n",
              "  <svg xmlns=\"http://www.w3.org/2000/svg\" height=\"24px\"viewBox=\"0 0 24 24\"\n",
              "       width=\"24px\">\n",
              "    <path d=\"M0 0h24v24H0V0z\" fill=\"none\"/>\n",
              "    <path d=\"M18.56 5.44l.94 2.06.94-2.06 2.06-.94-2.06-.94-.94-2.06-.94 2.06-2.06.94zm-11 1L8.5 8.5l.94-2.06 2.06-.94-2.06-.94L8.5 2.5l-.94 2.06-2.06.94zm10 10l.94 2.06.94-2.06 2.06-.94-2.06-.94-.94-2.06-.94 2.06-2.06.94z\"/><path d=\"M17.41 7.96l-1.37-1.37c-.4-.4-.92-.59-1.43-.59-.52 0-1.04.2-1.43.59L10.3 9.45l-7.72 7.72c-.78.78-.78 2.05 0 2.83L4 21.41c.39.39.9.59 1.41.59.51 0 1.02-.2 1.41-.59l7.78-7.78 2.81-2.81c.8-.78.8-2.07 0-2.86zM5.41 20L4 18.59l7.72-7.72 1.47 1.35L5.41 20z\"/>\n",
              "  </svg>\n",
              "      </button>\n",
              "      \n",
              "  <style>\n",
              "    .colab-df-container {\n",
              "      display:flex;\n",
              "      flex-wrap:wrap;\n",
              "      gap: 12px;\n",
              "    }\n",
              "\n",
              "    .colab-df-convert {\n",
              "      background-color: #E8F0FE;\n",
              "      border: none;\n",
              "      border-radius: 50%;\n",
              "      cursor: pointer;\n",
              "      display: none;\n",
              "      fill: #1967D2;\n",
              "      height: 32px;\n",
              "      padding: 0 0 0 0;\n",
              "      width: 32px;\n",
              "    }\n",
              "\n",
              "    .colab-df-convert:hover {\n",
              "      background-color: #E2EBFA;\n",
              "      box-shadow: 0px 1px 2px rgba(60, 64, 67, 0.3), 0px 1px 3px 1px rgba(60, 64, 67, 0.15);\n",
              "      fill: #174EA6;\n",
              "    }\n",
              "\n",
              "    [theme=dark] .colab-df-convert {\n",
              "      background-color: #3B4455;\n",
              "      fill: #D2E3FC;\n",
              "    }\n",
              "\n",
              "    [theme=dark] .colab-df-convert:hover {\n",
              "      background-color: #434B5C;\n",
              "      box-shadow: 0px 1px 3px 1px rgba(0, 0, 0, 0.15);\n",
              "      filter: drop-shadow(0px 1px 2px rgba(0, 0, 0, 0.3));\n",
              "      fill: #FFFFFF;\n",
              "    }\n",
              "  </style>\n",
              "\n",
              "      <script>\n",
              "        const buttonEl =\n",
              "          document.querySelector('#df-bcdb4bcd-809a-427e-918c-1f4b4105a085 button.colab-df-convert');\n",
              "        buttonEl.style.display =\n",
              "          google.colab.kernel.accessAllowed ? 'block' : 'none';\n",
              "\n",
              "        async function convertToInteractive(key) {\n",
              "          const element = document.querySelector('#df-bcdb4bcd-809a-427e-918c-1f4b4105a085');\n",
              "          const dataTable =\n",
              "            await google.colab.kernel.invokeFunction('convertToInteractive',\n",
              "                                                     [key], {});\n",
              "          if (!dataTable) return;\n",
              "\n",
              "          const docLinkHtml = 'Like what you see? Visit the ' +\n",
              "            '<a target=\"_blank\" href=https://colab.research.google.com/notebooks/data_table.ipynb>data table notebook</a>'\n",
              "            + ' to learn more about interactive tables.';\n",
              "          element.innerHTML = '';\n",
              "          dataTable['output_type'] = 'display_data';\n",
              "          await google.colab.output.renderOutput(dataTable, element);\n",
              "          const docLink = document.createElement('div');\n",
              "          docLink.innerHTML = docLinkHtml;\n",
              "          element.appendChild(docLink);\n",
              "        }\n",
              "      </script>\n",
              "    </div>\n",
              "  </div>\n",
              "  "
            ]
          },
          "metadata": {},
          "execution_count": 149
        }
      ]
    },
    {
      "cell_type": "markdown",
      "source": [
        "`noodatiy qiymatlar bilan qanday yo'l tutishni aniqlash uchun ularning hajmini tekshirib olamiz` ↓"
      ],
      "metadata": {
        "id": "HCzElVaOLWWd"
      }
    },
    {
      "cell_type": "code",
      "source": [
        "len(df[df['size']>200])"
      ],
      "metadata": {
        "colab": {
          "base_uri": "https://localhost:8080/"
        },
        "id": "1m2_jxdyh8sM",
        "outputId": "8c3a3536-1765-481f-8852-e25c1f00c997"
      },
      "execution_count": 150,
      "outputs": [
        {
          "output_type": "execute_result",
          "data": {
            "text/plain": [
              "111"
            ]
          },
          "metadata": {},
          "execution_count": 150
        }
      ]
    },
    {
      "cell_type": "code",
      "source": [
        "len(df[df['size']<15])"
      ],
      "metadata": {
        "colab": {
          "base_uri": "https://localhost:8080/"
        },
        "id": "STCock5KhThZ",
        "outputId": "595fdba9-5337-49aa-9b09-9fd038e6305a"
      },
      "execution_count": 151,
      "outputs": [
        {
          "output_type": "execute_result",
          "data": {
            "text/plain": [
              "12"
            ]
          },
          "metadata": {},
          "execution_count": 151
        }
      ]
    },
    {
      "cell_type": "code",
      "source": [
        "df.drop(df[df['size']>200].index, inplace=True)"
      ],
      "metadata": {
        "id": "cRqv2AJci8rR"
      },
      "execution_count": 152,
      "outputs": []
    },
    {
      "cell_type": "code",
      "source": [
        "df.drop(df[df['size']<15].index, inplace=True)"
      ],
      "metadata": {
        "id": "Lbpy4576hju2"
      },
      "execution_count": 153,
      "outputs": []
    },
    {
      "cell_type": "code",
      "source": [
        "df.drop(df[df['price']<10000].index, inplace=True)"
      ],
      "metadata": {
        "id": "AvcddnXZjEEI"
      },
      "execution_count": 154,
      "outputs": []
    },
    {
      "cell_type": "code",
      "source": [
        "df.drop(df[df['price']>299000].index, inplace=True)"
      ],
      "metadata": {
        "id": "6Zl6xThmkfuM"
      },
      "execution_count": 155,
      "outputs": []
    },
    {
      "cell_type": "code",
      "source": [
        "df.drop(df[(df['size']<20) & (df['rooms']!=1)].index, inplace=True)"
      ],
      "metadata": {
        "id": "k0bSFwqFXYof"
      },
      "execution_count": 156,
      "outputs": []
    },
    {
      "cell_type": "code",
      "source": [
        "df.drop(df[(df['size']<30) & (df['rooms']>2)].index, inplace=True)"
      ],
      "metadata": {
        "id": "OnAN5rk-Ygeq"
      },
      "execution_count": 157,
      "outputs": []
    },
    {
      "cell_type": "code",
      "source": [
        "df.describe()"
      ],
      "metadata": {
        "colab": {
          "base_uri": "https://localhost:8080/",
          "height": 300
        },
        "id": "zHVc-GqcjwiC",
        "outputId": "5c75c105-39eb-4732-e70a-1ed22a25f68e"
      },
      "execution_count": 158,
      "outputs": [
        {
          "output_type": "execute_result",
          "data": {
            "text/plain": [
              "             rooms         size       level   max_levels          price\n",
              "count  7304.000000  7304.000000  7304.00000  7304.000000    7304.000000\n",
              "mean      2.580230    70.383352     3.69414     6.011090   55725.647043\n",
              "std       1.018048    28.603310     2.22962     2.600733   34628.754887\n",
              "min       1.000000    15.000000     1.00000     1.000000   10000.000000\n",
              "25%       2.000000    50.000000     2.00000     4.000000   35000.000000\n",
              "50%       2.000000    65.000000     3.00000     5.000000   46000.000000\n",
              "75%       3.000000    84.000000     5.00000     9.000000   65000.000000\n",
              "max       7.000000   200.000000    19.00000    25.000000  299000.000000"
            ],
            "text/html": [
              "\n",
              "  <div id=\"df-cc750d1a-969a-4d4f-8fe5-88b84055012a\">\n",
              "    <div class=\"colab-df-container\">\n",
              "      <div>\n",
              "<style scoped>\n",
              "    .dataframe tbody tr th:only-of-type {\n",
              "        vertical-align: middle;\n",
              "    }\n",
              "\n",
              "    .dataframe tbody tr th {\n",
              "        vertical-align: top;\n",
              "    }\n",
              "\n",
              "    .dataframe thead th {\n",
              "        text-align: right;\n",
              "    }\n",
              "</style>\n",
              "<table border=\"1\" class=\"dataframe\">\n",
              "  <thead>\n",
              "    <tr style=\"text-align: right;\">\n",
              "      <th></th>\n",
              "      <th>rooms</th>\n",
              "      <th>size</th>\n",
              "      <th>level</th>\n",
              "      <th>max_levels</th>\n",
              "      <th>price</th>\n",
              "    </tr>\n",
              "  </thead>\n",
              "  <tbody>\n",
              "    <tr>\n",
              "      <th>count</th>\n",
              "      <td>7304.000000</td>\n",
              "      <td>7304.000000</td>\n",
              "      <td>7304.00000</td>\n",
              "      <td>7304.000000</td>\n",
              "      <td>7304.000000</td>\n",
              "    </tr>\n",
              "    <tr>\n",
              "      <th>mean</th>\n",
              "      <td>2.580230</td>\n",
              "      <td>70.383352</td>\n",
              "      <td>3.69414</td>\n",
              "      <td>6.011090</td>\n",
              "      <td>55725.647043</td>\n",
              "    </tr>\n",
              "    <tr>\n",
              "      <th>std</th>\n",
              "      <td>1.018048</td>\n",
              "      <td>28.603310</td>\n",
              "      <td>2.22962</td>\n",
              "      <td>2.600733</td>\n",
              "      <td>34628.754887</td>\n",
              "    </tr>\n",
              "    <tr>\n",
              "      <th>min</th>\n",
              "      <td>1.000000</td>\n",
              "      <td>15.000000</td>\n",
              "      <td>1.00000</td>\n",
              "      <td>1.000000</td>\n",
              "      <td>10000.000000</td>\n",
              "    </tr>\n",
              "    <tr>\n",
              "      <th>25%</th>\n",
              "      <td>2.000000</td>\n",
              "      <td>50.000000</td>\n",
              "      <td>2.00000</td>\n",
              "      <td>4.000000</td>\n",
              "      <td>35000.000000</td>\n",
              "    </tr>\n",
              "    <tr>\n",
              "      <th>50%</th>\n",
              "      <td>2.000000</td>\n",
              "      <td>65.000000</td>\n",
              "      <td>3.00000</td>\n",
              "      <td>5.000000</td>\n",
              "      <td>46000.000000</td>\n",
              "    </tr>\n",
              "    <tr>\n",
              "      <th>75%</th>\n",
              "      <td>3.000000</td>\n",
              "      <td>84.000000</td>\n",
              "      <td>5.00000</td>\n",
              "      <td>9.000000</td>\n",
              "      <td>65000.000000</td>\n",
              "    </tr>\n",
              "    <tr>\n",
              "      <th>max</th>\n",
              "      <td>7.000000</td>\n",
              "      <td>200.000000</td>\n",
              "      <td>19.00000</td>\n",
              "      <td>25.000000</td>\n",
              "      <td>299000.000000</td>\n",
              "    </tr>\n",
              "  </tbody>\n",
              "</table>\n",
              "</div>\n",
              "      <button class=\"colab-df-convert\" onclick=\"convertToInteractive('df-cc750d1a-969a-4d4f-8fe5-88b84055012a')\"\n",
              "              title=\"Convert this dataframe to an interactive table.\"\n",
              "              style=\"display:none;\">\n",
              "        \n",
              "  <svg xmlns=\"http://www.w3.org/2000/svg\" height=\"24px\"viewBox=\"0 0 24 24\"\n",
              "       width=\"24px\">\n",
              "    <path d=\"M0 0h24v24H0V0z\" fill=\"none\"/>\n",
              "    <path d=\"M18.56 5.44l.94 2.06.94-2.06 2.06-.94-2.06-.94-.94-2.06-.94 2.06-2.06.94zm-11 1L8.5 8.5l.94-2.06 2.06-.94-2.06-.94L8.5 2.5l-.94 2.06-2.06.94zm10 10l.94 2.06.94-2.06 2.06-.94-2.06-.94-.94-2.06-.94 2.06-2.06.94z\"/><path d=\"M17.41 7.96l-1.37-1.37c-.4-.4-.92-.59-1.43-.59-.52 0-1.04.2-1.43.59L10.3 9.45l-7.72 7.72c-.78.78-.78 2.05 0 2.83L4 21.41c.39.39.9.59 1.41.59.51 0 1.02-.2 1.41-.59l7.78-7.78 2.81-2.81c.8-.78.8-2.07 0-2.86zM5.41 20L4 18.59l7.72-7.72 1.47 1.35L5.41 20z\"/>\n",
              "  </svg>\n",
              "      </button>\n",
              "      \n",
              "  <style>\n",
              "    .colab-df-container {\n",
              "      display:flex;\n",
              "      flex-wrap:wrap;\n",
              "      gap: 12px;\n",
              "    }\n",
              "\n",
              "    .colab-df-convert {\n",
              "      background-color: #E8F0FE;\n",
              "      border: none;\n",
              "      border-radius: 50%;\n",
              "      cursor: pointer;\n",
              "      display: none;\n",
              "      fill: #1967D2;\n",
              "      height: 32px;\n",
              "      padding: 0 0 0 0;\n",
              "      width: 32px;\n",
              "    }\n",
              "\n",
              "    .colab-df-convert:hover {\n",
              "      background-color: #E2EBFA;\n",
              "      box-shadow: 0px 1px 2px rgba(60, 64, 67, 0.3), 0px 1px 3px 1px rgba(60, 64, 67, 0.15);\n",
              "      fill: #174EA6;\n",
              "    }\n",
              "\n",
              "    [theme=dark] .colab-df-convert {\n",
              "      background-color: #3B4455;\n",
              "      fill: #D2E3FC;\n",
              "    }\n",
              "\n",
              "    [theme=dark] .colab-df-convert:hover {\n",
              "      background-color: #434B5C;\n",
              "      box-shadow: 0px 1px 3px 1px rgba(0, 0, 0, 0.15);\n",
              "      filter: drop-shadow(0px 1px 2px rgba(0, 0, 0, 0.3));\n",
              "      fill: #FFFFFF;\n",
              "    }\n",
              "  </style>\n",
              "\n",
              "      <script>\n",
              "        const buttonEl =\n",
              "          document.querySelector('#df-cc750d1a-969a-4d4f-8fe5-88b84055012a button.colab-df-convert');\n",
              "        buttonEl.style.display =\n",
              "          google.colab.kernel.accessAllowed ? 'block' : 'none';\n",
              "\n",
              "        async function convertToInteractive(key) {\n",
              "          const element = document.querySelector('#df-cc750d1a-969a-4d4f-8fe5-88b84055012a');\n",
              "          const dataTable =\n",
              "            await google.colab.kernel.invokeFunction('convertToInteractive',\n",
              "                                                     [key], {});\n",
              "          if (!dataTable) return;\n",
              "\n",
              "          const docLinkHtml = 'Like what you see? Visit the ' +\n",
              "            '<a target=\"_blank\" href=https://colab.research.google.com/notebooks/data_table.ipynb>data table notebook</a>'\n",
              "            + ' to learn more about interactive tables.';\n",
              "          element.innerHTML = '';\n",
              "          dataTable['output_type'] = 'display_data';\n",
              "          await google.colab.output.renderOutput(dataTable, element);\n",
              "          const docLink = document.createElement('div');\n",
              "          docLink.innerHTML = docLinkHtml;\n",
              "          element.appendChild(docLink);\n",
              "        }\n",
              "      </script>\n",
              "    </div>\n",
              "  </div>\n",
              "  "
            ]
          },
          "metadata": {},
          "execution_count": 158
        }
      ]
    },
    {
      "cell_type": "code",
      "source": [
        "df.corr()"
      ],
      "metadata": {
        "colab": {
          "base_uri": "https://localhost:8080/",
          "height": 206
        },
        "id": "oWWneN6kXlv-",
        "outputId": "ec11a939-9d46-4b6a-eda7-1608ec012c32"
      },
      "execution_count": 159,
      "outputs": [
        {
          "output_type": "execute_result",
          "data": {
            "text/plain": [
              "               rooms      size     level  max_levels     price\n",
              "rooms       1.000000  0.818440  0.141658    0.178011  0.561708\n",
              "size        0.818440  1.000000  0.192662    0.313441  0.787588\n",
              "level       0.141658  0.192662  1.000000    0.595449  0.080200\n",
              "max_levels  0.178011  0.313441  0.595449    1.000000  0.249546\n",
              "price       0.561708  0.787588  0.080200    0.249546  1.000000"
            ],
            "text/html": [
              "\n",
              "  <div id=\"df-824de175-3740-449e-907d-83f07654970f\">\n",
              "    <div class=\"colab-df-container\">\n",
              "      <div>\n",
              "<style scoped>\n",
              "    .dataframe tbody tr th:only-of-type {\n",
              "        vertical-align: middle;\n",
              "    }\n",
              "\n",
              "    .dataframe tbody tr th {\n",
              "        vertical-align: top;\n",
              "    }\n",
              "\n",
              "    .dataframe thead th {\n",
              "        text-align: right;\n",
              "    }\n",
              "</style>\n",
              "<table border=\"1\" class=\"dataframe\">\n",
              "  <thead>\n",
              "    <tr style=\"text-align: right;\">\n",
              "      <th></th>\n",
              "      <th>rooms</th>\n",
              "      <th>size</th>\n",
              "      <th>level</th>\n",
              "      <th>max_levels</th>\n",
              "      <th>price</th>\n",
              "    </tr>\n",
              "  </thead>\n",
              "  <tbody>\n",
              "    <tr>\n",
              "      <th>rooms</th>\n",
              "      <td>1.000000</td>\n",
              "      <td>0.818440</td>\n",
              "      <td>0.141658</td>\n",
              "      <td>0.178011</td>\n",
              "      <td>0.561708</td>\n",
              "    </tr>\n",
              "    <tr>\n",
              "      <th>size</th>\n",
              "      <td>0.818440</td>\n",
              "      <td>1.000000</td>\n",
              "      <td>0.192662</td>\n",
              "      <td>0.313441</td>\n",
              "      <td>0.787588</td>\n",
              "    </tr>\n",
              "    <tr>\n",
              "      <th>level</th>\n",
              "      <td>0.141658</td>\n",
              "      <td>0.192662</td>\n",
              "      <td>1.000000</td>\n",
              "      <td>0.595449</td>\n",
              "      <td>0.080200</td>\n",
              "    </tr>\n",
              "    <tr>\n",
              "      <th>max_levels</th>\n",
              "      <td>0.178011</td>\n",
              "      <td>0.313441</td>\n",
              "      <td>0.595449</td>\n",
              "      <td>1.000000</td>\n",
              "      <td>0.249546</td>\n",
              "    </tr>\n",
              "    <tr>\n",
              "      <th>price</th>\n",
              "      <td>0.561708</td>\n",
              "      <td>0.787588</td>\n",
              "      <td>0.080200</td>\n",
              "      <td>0.249546</td>\n",
              "      <td>1.000000</td>\n",
              "    </tr>\n",
              "  </tbody>\n",
              "</table>\n",
              "</div>\n",
              "      <button class=\"colab-df-convert\" onclick=\"convertToInteractive('df-824de175-3740-449e-907d-83f07654970f')\"\n",
              "              title=\"Convert this dataframe to an interactive table.\"\n",
              "              style=\"display:none;\">\n",
              "        \n",
              "  <svg xmlns=\"http://www.w3.org/2000/svg\" height=\"24px\"viewBox=\"0 0 24 24\"\n",
              "       width=\"24px\">\n",
              "    <path d=\"M0 0h24v24H0V0z\" fill=\"none\"/>\n",
              "    <path d=\"M18.56 5.44l.94 2.06.94-2.06 2.06-.94-2.06-.94-.94-2.06-.94 2.06-2.06.94zm-11 1L8.5 8.5l.94-2.06 2.06-.94-2.06-.94L8.5 2.5l-.94 2.06-2.06.94zm10 10l.94 2.06.94-2.06 2.06-.94-2.06-.94-.94-2.06-.94 2.06-2.06.94z\"/><path d=\"M17.41 7.96l-1.37-1.37c-.4-.4-.92-.59-1.43-.59-.52 0-1.04.2-1.43.59L10.3 9.45l-7.72 7.72c-.78.78-.78 2.05 0 2.83L4 21.41c.39.39.9.59 1.41.59.51 0 1.02-.2 1.41-.59l7.78-7.78 2.81-2.81c.8-.78.8-2.07 0-2.86zM5.41 20L4 18.59l7.72-7.72 1.47 1.35L5.41 20z\"/>\n",
              "  </svg>\n",
              "      </button>\n",
              "      \n",
              "  <style>\n",
              "    .colab-df-container {\n",
              "      display:flex;\n",
              "      flex-wrap:wrap;\n",
              "      gap: 12px;\n",
              "    }\n",
              "\n",
              "    .colab-df-convert {\n",
              "      background-color: #E8F0FE;\n",
              "      border: none;\n",
              "      border-radius: 50%;\n",
              "      cursor: pointer;\n",
              "      display: none;\n",
              "      fill: #1967D2;\n",
              "      height: 32px;\n",
              "      padding: 0 0 0 0;\n",
              "      width: 32px;\n",
              "    }\n",
              "\n",
              "    .colab-df-convert:hover {\n",
              "      background-color: #E2EBFA;\n",
              "      box-shadow: 0px 1px 2px rgba(60, 64, 67, 0.3), 0px 1px 3px 1px rgba(60, 64, 67, 0.15);\n",
              "      fill: #174EA6;\n",
              "    }\n",
              "\n",
              "    [theme=dark] .colab-df-convert {\n",
              "      background-color: #3B4455;\n",
              "      fill: #D2E3FC;\n",
              "    }\n",
              "\n",
              "    [theme=dark] .colab-df-convert:hover {\n",
              "      background-color: #434B5C;\n",
              "      box-shadow: 0px 1px 3px 1px rgba(0, 0, 0, 0.15);\n",
              "      filter: drop-shadow(0px 1px 2px rgba(0, 0, 0, 0.3));\n",
              "      fill: #FFFFFF;\n",
              "    }\n",
              "  </style>\n",
              "\n",
              "      <script>\n",
              "        const buttonEl =\n",
              "          document.querySelector('#df-824de175-3740-449e-907d-83f07654970f button.colab-df-convert');\n",
              "        buttonEl.style.display =\n",
              "          google.colab.kernel.accessAllowed ? 'block' : 'none';\n",
              "\n",
              "        async function convertToInteractive(key) {\n",
              "          const element = document.querySelector('#df-824de175-3740-449e-907d-83f07654970f');\n",
              "          const dataTable =\n",
              "            await google.colab.kernel.invokeFunction('convertToInteractive',\n",
              "                                                     [key], {});\n",
              "          if (!dataTable) return;\n",
              "\n",
              "          const docLinkHtml = 'Like what you see? Visit the ' +\n",
              "            '<a target=\"_blank\" href=https://colab.research.google.com/notebooks/data_table.ipynb>data table notebook</a>'\n",
              "            + ' to learn more about interactive tables.';\n",
              "          element.innerHTML = '';\n",
              "          dataTable['output_type'] = 'display_data';\n",
              "          await google.colab.output.renderOutput(dataTable, element);\n",
              "          const docLink = document.createElement('div');\n",
              "          docLink.innerHTML = docLinkHtml;\n",
              "          element.appendChild(docLink);\n",
              "        }\n",
              "      </script>\n",
              "    </div>\n",
              "  </div>\n",
              "  "
            ]
          },
          "metadata": {},
          "execution_count": 159
        }
      ]
    },
    {
      "cell_type": "markdown",
      "source": [
        "`Ma'lumotlarimiz anchagina tartibli ko'rinishga keldi`"
      ],
      "metadata": {
        "id": "p6f1L7-IMSyb"
      }
    },
    {
      "cell_type": "markdown",
      "source": [
        "# **Grafiklar**"
      ],
      "metadata": {
        "id": "rK8-tljrWiw9"
      }
    },
    {
      "cell_type": "code",
      "source": [
        "import seaborn as sns\n",
        "import matplotlib.pyplot as plt\n",
        "%matplotlib inline"
      ],
      "metadata": {
        "id": "qC5zTduHWn6P"
      },
      "execution_count": 160,
      "outputs": []
    },
    {
      "cell_type": "code",
      "source": [
        "plt.figure(figsize=(16,6))\n",
        "sns.barplot(x=df.district, y=df['price'])\n",
        "\n",
        "plt.title(\"Toshkent shahri hududlar bo'yicha uylar narxidagi tafovvut \")\n",
        "plt.xlabel('Hudud')\n",
        "plt.ylabel('Uylar narxi')\n",
        "plt.xticks(rotation=90)\n",
        "plt.grid()\n",
        "plt.show()"
      ],
      "metadata": {
        "colab": {
          "base_uri": "https://localhost:8080/",
          "height": 497
        },
        "id": "Woby_KEGCF8Q",
        "outputId": "a2a9aadd-9046-4a1f-967b-dd736e00d6a0"
      },
      "execution_count": 161,
      "outputs": [
        {
          "output_type": "display_data",
          "data": {
            "text/plain": [
              "<Figure size 1152x432 with 1 Axes>"
            ],
            "image/png": "[encoded data removed]"
          },
          "metadata": {
            "needs_background": "light"
          }
        }
      ]
    },
    {
      "cell_type": "markdown",
      "source": [
        "`Quyidagi 2 ta grafikda xonalar soniga qarab narxlarning qanday o'zgarishini ko'rishimiz mumkin: ↓`"
      ],
      "metadata": {
        "id": "eSBKrpUH6DJ3"
      }
    },
    {
      "cell_type": "code",
      "source": [
        "plt.figure(figsize=(10,6))\n",
        "sns.scatterplot(y=df['price'], x=df['size'], hue=df['rooms'], palette='Set1')\n",
        "plt.show()"
      ],
      "metadata": {
        "colab": {
          "base_uri": "https://localhost:8080/",
          "height": 388
        },
        "id": "3fqs-60zWnxM",
        "outputId": "b56392ac-2c6e-4199-cfd3-db34449e3a5d"
      },
      "execution_count": 162,
      "outputs": [
        {
          "output_type": "display_data",
          "data": {
            "text/plain": [
              "<Figure size 720x432 with 1 Axes>"
            ],
            "image/png": "[encoded data removed]"
          },
          "metadata": {
            "needs_background": "light"
          }
        }
      ]
    },
    {
      "cell_type": "code",
      "source": [
        "plt.figure(figsize=(10,6))\n",
        "sns.regplot(y=df['price'], x=df['size'])\n",
        "plt.show()"
      ],
      "metadata": {
        "colab": {
          "base_uri": "https://localhost:8080/",
          "height": 388
        },
        "id": "ECnyKu7GWn01",
        "outputId": "4c7e9df5-8a9a-4985-c5ec-0a970ed87dde"
      },
      "execution_count": 163,
      "outputs": [
        {
          "output_type": "display_data",
          "data": {
            "text/plain": [
              "<Figure size 720x432 with 1 Axes>"
            ],
            "image/png": "[encoded data removed]"
          },
          "metadata": {
            "needs_background": "light"
          }
        }
      ]
    },
    {
      "cell_type": "markdown",
      "source": [
        "---\n",
        "\n",
        "# **train_test_split**"
      ],
      "metadata": {
        "id": "hNhFdgIwllA4"
      }
    },
    {
      "cell_type": "code",
      "source": [
        "from sklearn.model_selection import train_test_split\n",
        "\n",
        "train_set, test_set = train_test_split(df, test_size = 0.25, random_state=55)"
      ],
      "metadata": {
        "id": "gi3k28DalrDu"
      },
      "execution_count": 164,
      "outputs": []
    },
    {
      "cell_type": "code",
      "source": [
        "print(train_set.shape)\n",
        "print(test_set.shape)"
      ],
      "metadata": {
        "colab": {
          "base_uri": "https://localhost:8080/"
        },
        "id": "fQ7iYG8gmUwW",
        "outputId": "4568b2a9-3218-4cd8-e086-d7a844a0236f"
      },
      "execution_count": 165,
      "outputs": [
        {
          "output_type": "stream",
          "name": "stdout",
          "text": [
            "(5478, 7)\n",
            "(1826, 7)\n"
          ]
        }
      ]
    },
    {
      "cell_type": "code",
      "source": [
        "X_train = train_set.drop('price', axis=1)\n",
        "y = train_set['price'].copy()\n",
        "\n",
        "X_test = test_set.drop('price', axis=1)\n",
        "y_test = test_set['price'].copy()"
      ],
      "metadata": {
        "id": "vUR4M5u1mkAw"
      },
      "execution_count": 166,
      "outputs": []
    },
    {
      "cell_type": "markdown",
      "source": [
        "# **Pipeline**"
      ],
      "metadata": {
        "id": "AaX6wqI1nUQA"
      }
    },
    {
      "cell_type": "markdown",
      "source": [
        "## **num_pipeline**"
      ],
      "metadata": {
        "id": "OSNAKO90o4b7"
      }
    },
    {
      "cell_type": "code",
      "source": [
        "from sklearn.pipeline import Pipeline\n",
        "from sklearn.preprocessing import StandardScaler\n",
        "\n",
        "X_num = X_train.drop(['location', 'district'], axis=1)\n",
        "\n",
        "num_pipeline = Pipeline([\n",
        "                         ('std_scaler', StandardScaler())\n",
        "])"
      ],
      "metadata": {
        "id": "b3kbMMsAnXP4"
      },
      "execution_count": 167,
      "outputs": []
    },
    {
      "cell_type": "markdown",
      "source": [
        "## **full_pipeline**"
      ],
      "metadata": {
        "id": "yG5IFLeqo8lH"
      }
    },
    {
      "cell_type": "code",
      "source": [
        "from sklearn.compose import ColumnTransformer\n",
        "from sklearn.preprocessing import OneHotEncoder, OrdinalEncoder\n",
        "\n",
        "num_attribs = list(X_num)\n",
        "loc_cat_attribs = ['location']\n",
        "dis_cat_attribs = ['district']\n",
        "\n",
        "full_pipeline = ColumnTransformer([\n",
        "                                   ('num', num_pipeline, num_attribs),\n",
        "                                   ('loc', OrdinalEncoder(), loc_cat_attribs),\n",
        "                                   ('dis', OneHotEncoder(), dis_cat_attribs)\n",
        "])"
      ],
      "metadata": {
        "id": "vVpQPMRLocK2"
      },
      "execution_count": 168,
      "outputs": []
    },
    {
      "cell_type": "code",
      "source": [
        "X_prepared = full_pipeline.fit_transform(X_train)\n",
        "X_prepared"
      ],
      "metadata": {
        "colab": {
          "base_uri": "https://localhost:8080/"
        },
        "id": "yGf57eA0qTdX",
        "outputId": "206f36ca-833d-40cf-af70-a7324bb10d7e"
      },
      "execution_count": 169,
      "outputs": [
        {
          "output_type": "execute_result",
          "data": {
            "text/plain": [
              "array([[-1.54910343, -1.33926947, -0.30475901, ...,  0.        ,\n",
              "         0.        ,  0.        ],\n",
              "       [-0.57122966, -1.40881553, -1.20111866, ...,  0.        ,\n",
              "         0.        ,  0.        ],\n",
              "       [-1.54910343, -1.13063129, -0.75293883, ...,  0.        ,\n",
              "         0.        ,  0.        ],\n",
              "       ...,\n",
              "       [-1.54910343, -1.30449644, -0.75293883, ...,  0.        ,\n",
              "         0.        ,  0.        ],\n",
              "       [ 1.38451789,  1.19916171,  0.14342082, ...,  0.        ,\n",
              "         0.        ,  0.        ],\n",
              "       [-0.57122966, -0.57426281, -0.75293883, ...,  0.        ,\n",
              "         0.        ,  0.        ]])"
            ]
          },
          "metadata": {},
          "execution_count": 169
        }
      ]
    },
    {
      "cell_type": "markdown",
      "source": [
        "# **Machine Learning**"
      ],
      "metadata": {
        "id": "6cLzqKu5q5V1"
      }
    },
    {
      "cell_type": "markdown",
      "source": [
        "## **LinearRegression**\n",
        "\n",
        "---\n"
      ],
      "metadata": {
        "id": "hnTkWS3dzuEt"
      }
    },
    {
      "cell_type": "code",
      "source": [
        "from sklearn.linear_model import LinearRegression\n",
        "\n",
        "LR_model = LinearRegression()"
      ],
      "metadata": {
        "id": "gK7Zimc4qxX4"
      },
      "execution_count": 170,
      "outputs": []
    },
    {
      "cell_type": "code",
      "source": [
        "# Model Training\n",
        "LR_model.fit(X_prepared, y)"
      ],
      "metadata": {
        "colab": {
          "base_uri": "https://localhost:8080/"
        },
        "id": "7pO2kX--rgwI",
        "outputId": "7424e53a-11fb-4b22-ff5a-fca1406bbcbe"
      },
      "execution_count": 171,
      "outputs": [
        {
          "output_type": "execute_result",
          "data": {
            "text/plain": [
              "LinearRegression()"
            ]
          },
          "metadata": {},
          "execution_count": 171
        }
      ]
    },
    {
      "cell_type": "code",
      "source": [
        "# Preparing & Predict\n",
        "X_test_prepared = full_pipeline.fit_transform(X_test)\n",
        "y_predicted = LR_model.predict(X_test_prepared)"
      ],
      "metadata": {
        "id": "NUwOhsQFrzOQ"
      },
      "execution_count": 172,
      "outputs": []
    },
    {
      "cell_type": "code",
      "source": [
        "pd.DataFrame({'Prognoz':y_test, 'Asl qiymat':y_predicted})"
      ],
      "metadata": {
        "colab": {
          "base_uri": "https://localhost:8080/",
          "height": 424
        },
        "id": "-LSWWiGXrvQe",
        "outputId": "b9c11d34-a297-4a86-ac16-badef9c0cce2"
      },
      "execution_count": 173,
      "outputs": [
        {
          "output_type": "execute_result",
          "data": {
            "text/plain": [
              "      Prognoz    Asl qiymat\n",
              "1078    48000  69110.150917\n",
              "3170    63000  51125.308122\n",
              "4069    84000  86831.525363\n",
              "1168    30500  20217.736178\n",
              "5320    53000  42156.035233\n",
              "...       ...           ...\n",
              "4978    34500  31314.161249\n",
              "3432    62000  73581.644729\n",
              "3593    35000  50738.262912\n",
              "7490    35000  35459.961009\n",
              "5244    62000  64603.602038\n",
              "\n",
              "[1826 rows x 2 columns]"
            ],
            "text/html": [
              "\n",
              "  <div id=\"df-9b428fa7-0400-405e-8a8d-1570b208aded\">\n",
              "    <div class=\"colab-df-container\">\n",
              "      <div>\n",
              "<style scoped>\n",
              "    .dataframe tbody tr th:only-of-type {\n",
              "        vertical-align: middle;\n",
              "    }\n",
              "\n",
              "    .dataframe tbody tr th {\n",
              "        vertical-align: top;\n",
              "    }\n",
              "\n",
              "    .dataframe thead th {\n",
              "        text-align: right;\n",
              "    }\n",
              "</style>\n",
              "<table border=\"1\" class=\"dataframe\">\n",
              "  <thead>\n",
              "    <tr style=\"text-align: right;\">\n",
              "      <th></th>\n",
              "      <th>Prognoz</th>\n",
              "      <th>Asl qiymat</th>\n",
              "    </tr>\n",
              "  </thead>\n",
              "  <tbody>\n",
              "    <tr>\n",
              "      <th>1078</th>\n",
              "      <td>48000</td>\n",
              "      <td>69110.150917</td>\n",
              "    </tr>\n",
              "    <tr>\n",
              "      <th>3170</th>\n",
              "      <td>63000</td>\n",
              "      <td>51125.308122</td>\n",
              "    </tr>\n",
              "    <tr>\n",
              "      <th>4069</th>\n",
              "      <td>84000</td>\n",
              "      <td>86831.525363</td>\n",
              "    </tr>\n",
              "    <tr>\n",
              "      <th>1168</th>\n",
              "      <td>30500</td>\n",
              "      <td>20217.736178</td>\n",
              "    </tr>\n",
              "    <tr>\n",
              "      <th>5320</th>\n",
              "      <td>53000</td>\n",
              "      <td>42156.035233</td>\n",
              "    </tr>\n",
              "    <tr>\n",
              "      <th>...</th>\n",
              "      <td>...</td>\n",
              "      <td>...</td>\n",
              "    </tr>\n",
              "    <tr>\n",
              "      <th>4978</th>\n",
              "      <td>34500</td>\n",
              "      <td>31314.161249</td>\n",
              "    </tr>\n",
              "    <tr>\n",
              "      <th>3432</th>\n",
              "      <td>62000</td>\n",
              "      <td>73581.644729</td>\n",
              "    </tr>\n",
              "    <tr>\n",
              "      <th>3593</th>\n",
              "      <td>35000</td>\n",
              "      <td>50738.262912</td>\n",
              "    </tr>\n",
              "    <tr>\n",
              "      <th>7490</th>\n",
              "      <td>35000</td>\n",
              "      <td>35459.961009</td>\n",
              "    </tr>\n",
              "    <tr>\n",
              "      <th>5244</th>\n",
              "      <td>62000</td>\n",
              "      <td>64603.602038</td>\n",
              "    </tr>\n",
              "  </tbody>\n",
              "</table>\n",
              "<p>1826 rows × 2 columns</p>\n",
              "</div>\n",
              "      <button class=\"colab-df-convert\" onclick=\"convertToInteractive('df-9b428fa7-0400-405e-8a8d-1570b208aded')\"\n",
              "              title=\"Convert this dataframe to an interactive table.\"\n",
              "              style=\"display:none;\">\n",
              "        \n",
              "  <svg xmlns=\"http://www.w3.org/2000/svg\" height=\"24px\"viewBox=\"0 0 24 24\"\n",
              "       width=\"24px\">\n",
              "    <path d=\"M0 0h24v24H0V0z\" fill=\"none\"/>\n",
              "    <path d=\"M18.56 5.44l.94 2.06.94-2.06 2.06-.94-2.06-.94-.94-2.06-.94 2.06-2.06.94zm-11 1L8.5 8.5l.94-2.06 2.06-.94-2.06-.94L8.5 2.5l-.94 2.06-2.06.94zm10 10l.94 2.06.94-2.06 2.06-.94-2.06-.94-.94-2.06-.94 2.06-2.06.94z\"/><path d=\"M17.41 7.96l-1.37-1.37c-.4-.4-.92-.59-1.43-.59-.52 0-1.04.2-1.43.59L10.3 9.45l-7.72 7.72c-.78.78-.78 2.05 0 2.83L4 21.41c.39.39.9.59 1.41.59.51 0 1.02-.2 1.41-.59l7.78-7.78 2.81-2.81c.8-.78.8-2.07 0-2.86zM5.41 20L4 18.59l7.72-7.72 1.47 1.35L5.41 20z\"/>\n",
              "  </svg>\n",
              "      </button>\n",
              "      \n",
              "  <style>\n",
              "    .colab-df-container {\n",
              "      display:flex;\n",
              "      flex-wrap:wrap;\n",
              "      gap: 12px;\n",
              "    }\n",
              "\n",
              "    .colab-df-convert {\n",
              "      background-color: #E8F0FE;\n",
              "      border: none;\n",
              "      border-radius: 50%;\n",
              "      cursor: pointer;\n",
              "      display: none;\n",
              "      fill: #1967D2;\n",
              "      height: 32px;\n",
              "      padding: 0 0 0 0;\n",
              "      width: 32px;\n",
              "    }\n",
              "\n",
              "    .colab-df-convert:hover {\n",
              "      background-color: #E2EBFA;\n",
              "      box-shadow: 0px 1px 2px rgba(60, 64, 67, 0.3), 0px 1px 3px 1px rgba(60, 64, 67, 0.15);\n",
              "      fill: #174EA6;\n",
              "    }\n",
              "\n",
              "    [theme=dark] .colab-df-convert {\n",
              "      background-color: #3B4455;\n",
              "      fill: #D2E3FC;\n",
              "    }\n",
              "\n",
              "    [theme=dark] .colab-df-convert:hover {\n",
              "      background-color: #434B5C;\n",
              "      box-shadow: 0px 1px 3px 1px rgba(0, 0, 0, 0.15);\n",
              "      filter: drop-shadow(0px 1px 2px rgba(0, 0, 0, 0.3));\n",
              "      fill: #FFFFFF;\n",
              "    }\n",
              "  </style>\n",
              "\n",
              "      <script>\n",
              "        const buttonEl =\n",
              "          document.querySelector('#df-9b428fa7-0400-405e-8a8d-1570b208aded button.colab-df-convert');\n",
              "        buttonEl.style.display =\n",
              "          google.colab.kernel.accessAllowed ? 'block' : 'none';\n",
              "\n",
              "        async function convertToInteractive(key) {\n",
              "          const element = document.querySelector('#df-9b428fa7-0400-405e-8a8d-1570b208aded');\n",
              "          const dataTable =\n",
              "            await google.colab.kernel.invokeFunction('convertToInteractive',\n",
              "                                                     [key], {});\n",
              "          if (!dataTable) return;\n",
              "\n",
              "          const docLinkHtml = 'Like what you see? Visit the ' +\n",
              "            '<a target=\"_blank\" href=https://colab.research.google.com/notebooks/data_table.ipynb>data table notebook</a>'\n",
              "            + ' to learn more about interactive tables.';\n",
              "          element.innerHTML = '';\n",
              "          dataTable['output_type'] = 'display_data';\n",
              "          await google.colab.output.renderOutput(dataTable, element);\n",
              "          const docLink = document.createElement('div');\n",
              "          docLink.innerHTML = docLinkHtml;\n",
              "          element.appendChild(docLink);\n",
              "        }\n",
              "      </script>\n",
              "    </div>\n",
              "  </div>\n",
              "  "
            ]
          },
          "metadata": {},
          "execution_count": 173
        }
      ]
    },
    {
      "cell_type": "markdown",
      "source": [
        "### Modelni baholash\n",
        "`LR_model`\n",
        "\n",
        "---\n"
      ],
      "metadata": {
        "id": "hMMJ3yUB1WLO"
      }
    },
    {
      "cell_type": "code",
      "source": [
        "from sklearn.metrics import mean_absolute_error, mean_squared_error\n",
        "\n",
        "mae = mean_absolute_error\n",
        "mse = mean_squared_error"
      ],
      "metadata": {
        "id": "CHaZjD4R1bDf"
      },
      "execution_count": 174,
      "outputs": []
    },
    {
      "cell_type": "code",
      "source": [
        "print('MAE LR_model =', mae(y_test, y_predicted))\n",
        "print('RMSE LR_model =', np.sqrt(mse(y_test, y_predicted)))"
      ],
      "metadata": {
        "colab": {
          "base_uri": "https://localhost:8080/"
        },
        "id": "3Ngy6Z9L1bBi",
        "outputId": "6f8d9d3a-f263-4c08-9e30-9394c38fa478"
      },
      "execution_count": 175,
      "outputs": [
        {
          "output_type": "stream",
          "name": "stdout",
          "text": [
            "MAE LR_model = 12818.498651025202\n",
            "RMSE LR_model = 18677.17367262334\n"
          ]
        }
      ]
    },
    {
      "cell_type": "code",
      "source": [
        ""
      ],
      "metadata": {
        "id": "7ObmtVrj1a72"
      },
      "execution_count": 175,
      "outputs": []
    },
    {
      "cell_type": "markdown",
      "source": [
        "## **RandomForest**\n",
        "\n",
        "---\n"
      ],
      "metadata": {
        "id": "YZAIU1kzzyhZ"
      }
    },
    {
      "cell_type": "code",
      "source": [
        "from sklearn.ensemble import RandomForestRegressor\n",
        "\n",
        "RF_model = RandomForestRegressor()"
      ],
      "metadata": {
        "id": "OSDw1Slyz2J6"
      },
      "execution_count": 176,
      "outputs": []
    },
    {
      "cell_type": "code",
      "source": [
        "# Model Training\n",
        "RF_model.fit(X_prepared, y)"
      ],
      "metadata": {
        "colab": {
          "base_uri": "https://localhost:8080/"
        },
        "id": "ukvswLbKz2Ht",
        "outputId": "aa65e6a2-565b-40b8-a94f-d408ee2bb4db"
      },
      "execution_count": 177,
      "outputs": [
        {
          "output_type": "execute_result",
          "data": {
            "text/plain": [
              "RandomForestRegressor()"
            ]
          },
          "metadata": {},
          "execution_count": 177
        }
      ]
    },
    {
      "cell_type": "code",
      "source": [
        "# Predict\n",
        "y_predicted = RF_model.predict(X_test_prepared)"
      ],
      "metadata": {
        "id": "110yOYPkz2Ff"
      },
      "execution_count": 178,
      "outputs": []
    },
    {
      "cell_type": "code",
      "source": [
        "pd.DataFrame({'Prognoz':y_test, 'Asl qiymat':y_predicted})"
      ],
      "metadata": {
        "colab": {
          "base_uri": "https://localhost:8080/",
          "height": 424
        },
        "id": "s-I0Daz4z2DT",
        "outputId": "75060fff-c220-44c0-a0cb-14e6c112e9ac"
      },
      "execution_count": 179,
      "outputs": [
        {
          "output_type": "execute_result",
          "data": {
            "text/plain": [
              "      Prognoz    Asl qiymat\n",
              "1078    48000  83656.333333\n",
              "3170    63000  52804.080000\n",
              "4069    84000  72027.800000\n",
              "1168    30500  29931.000000\n",
              "5320    53000  44919.656667\n",
              "...       ...           ...\n",
              "4978    34500  42973.040000\n",
              "3432    62000  83669.400000\n",
              "3593    35000  40671.835000\n",
              "7490    35000  36687.333333\n",
              "5244    62000  60850.000000\n",
              "\n",
              "[1826 rows x 2 columns]"
            ],
            "text/html": [
              "\n",
              "  <div id=\"df-01a70e73-4152-4a22-8f78-54e08d99df37\">\n",
              "    <div class=\"colab-df-container\">\n",
              "      <div>\n",
              "<style scoped>\n",
              "    .dataframe tbody tr th:only-of-type {\n",
              "        vertical-align: middle;\n",
              "    }\n",
              "\n",
              "    .dataframe tbody tr th {\n",
              "        vertical-align: top;\n",
              "    }\n",
              "\n",
              "    .dataframe thead th {\n",
              "        text-align: right;\n",
              "    }\n",
              "</style>\n",
              "<table border=\"1\" class=\"dataframe\">\n",
              "  <thead>\n",
              "    <tr style=\"text-align: right;\">\n",
              "      <th></th>\n",
              "      <th>Prognoz</th>\n",
              "      <th>Asl qiymat</th>\n",
              "    </tr>\n",
              "  </thead>\n",
              "  <tbody>\n",
              "    <tr>\n",
              "      <th>1078</th>\n",
              "      <td>48000</td>\n",
              "      <td>83656.333333</td>\n",
              "    </tr>\n",
              "    <tr>\n",
              "      <th>3170</th>\n",
              "      <td>63000</td>\n",
              "      <td>52804.080000</td>\n",
              "    </tr>\n",
              "    <tr>\n",
              "      <th>4069</th>\n",
              "      <td>84000</td>\n",
              "      <td>72027.800000</td>\n",
              "    </tr>\n",
              "    <tr>\n",
              "      <th>1168</th>\n",
              "      <td>30500</td>\n",
              "      <td>29931.000000</td>\n",
              "    </tr>\n",
              "    <tr>\n",
              "      <th>5320</th>\n",
              "      <td>53000</td>\n",
              "      <td>44919.656667</td>\n",
              "    </tr>\n",
              "    <tr>\n",
              "      <th>...</th>\n",
              "      <td>...</td>\n",
              "      <td>...</td>\n",
              "    </tr>\n",
              "    <tr>\n",
              "      <th>4978</th>\n",
              "      <td>34500</td>\n",
              "      <td>42973.040000</td>\n",
              "    </tr>\n",
              "    <tr>\n",
              "      <th>3432</th>\n",
              "      <td>62000</td>\n",
              "      <td>83669.400000</td>\n",
              "    </tr>\n",
              "    <tr>\n",
              "      <th>3593</th>\n",
              "      <td>35000</td>\n",
              "      <td>40671.835000</td>\n",
              "    </tr>\n",
              "    <tr>\n",
              "      <th>7490</th>\n",
              "      <td>35000</td>\n",
              "      <td>36687.333333</td>\n",
              "    </tr>\n",
              "    <tr>\n",
              "      <th>5244</th>\n",
              "      <td>62000</td>\n",
              "      <td>60850.000000</td>\n",
              "    </tr>\n",
              "  </tbody>\n",
              "</table>\n",
              "<p>1826 rows × 2 columns</p>\n",
              "</div>\n",
              "      <button class=\"colab-df-convert\" onclick=\"convertToInteractive('df-01a70e73-4152-4a22-8f78-54e08d99df37')\"\n",
              "              title=\"Convert this dataframe to an interactive table.\"\n",
              "              style=\"display:none;\">\n",
              "        \n",
              "  <svg xmlns=\"http://www.w3.org/2000/svg\" height=\"24px\"viewBox=\"0 0 24 24\"\n",
              "       width=\"24px\">\n",
              "    <path d=\"M0 0h24v24H0V0z\" fill=\"none\"/>\n",
              "    <path d=\"M18.56 5.44l.94 2.06.94-2.06 2.06-.94-2.06-.94-.94-2.06-.94 2.06-2.06.94zm-11 1L8.5 8.5l.94-2.06 2.06-.94-2.06-.94L8.5 2.5l-.94 2.06-2.06.94zm10 10l.94 2.06.94-2.06 2.06-.94-2.06-.94-.94-2.06-.94 2.06-2.06.94z\"/><path d=\"M17.41 7.96l-1.37-1.37c-.4-.4-.92-.59-1.43-.59-.52 0-1.04.2-1.43.59L10.3 9.45l-7.72 7.72c-.78.78-.78 2.05 0 2.83L4 21.41c.39.39.9.59 1.41.59.51 0 1.02-.2 1.41-.59l7.78-7.78 2.81-2.81c.8-.78.8-2.07 0-2.86zM5.41 20L4 18.59l7.72-7.72 1.47 1.35L5.41 20z\"/>\n",
              "  </svg>\n",
              "      </button>\n",
              "      \n",
              "  <style>\n",
              "    .colab-df-container {\n",
              "      display:flex;\n",
              "      flex-wrap:wrap;\n",
              "      gap: 12px;\n",
              "    }\n",
              "\n",
              "    .colab-df-convert {\n",
              "      background-color: #E8F0FE;\n",
              "      border: none;\n",
              "      border-radius: 50%;\n",
              "      cursor: pointer;\n",
              "      display: none;\n",
              "      fill: #1967D2;\n",
              "      height: 32px;\n",
              "      padding: 0 0 0 0;\n",
              "      width: 32px;\n",
              "    }\n",
              "\n",
              "    .colab-df-convert:hover {\n",
              "      background-color: #E2EBFA;\n",
              "      box-shadow: 0px 1px 2px rgba(60, 64, 67, 0.3), 0px 1px 3px 1px rgba(60, 64, 67, 0.15);\n",
              "      fill: #174EA6;\n",
              "    }\n",
              "\n",
              "    [theme=dark] .colab-df-convert {\n",
              "      background-color: #3B4455;\n",
              "      fill: #D2E3FC;\n",
              "    }\n",
              "\n",
              "    [theme=dark] .colab-df-convert:hover {\n",
              "      background-color: #434B5C;\n",
              "      box-shadow: 0px 1px 3px 1px rgba(0, 0, 0, 0.15);\n",
              "      filter: drop-shadow(0px 1px 2px rgba(0, 0, 0, 0.3));\n",
              "      fill: #FFFFFF;\n",
              "    }\n",
              "  </style>\n",
              "\n",
              "      <script>\n",
              "        const buttonEl =\n",
              "          document.querySelector('#df-01a70e73-4152-4a22-8f78-54e08d99df37 button.colab-df-convert');\n",
              "        buttonEl.style.display =\n",
              "          google.colab.kernel.accessAllowed ? 'block' : 'none';\n",
              "\n",
              "        async function convertToInteractive(key) {\n",
              "          const element = document.querySelector('#df-01a70e73-4152-4a22-8f78-54e08d99df37');\n",
              "          const dataTable =\n",
              "            await google.colab.kernel.invokeFunction('convertToInteractive',\n",
              "                                                     [key], {});\n",
              "          if (!dataTable) return;\n",
              "\n",
              "          const docLinkHtml = 'Like what you see? Visit the ' +\n",
              "            '<a target=\"_blank\" href=https://colab.research.google.com/notebooks/data_table.ipynb>data table notebook</a>'\n",
              "            + ' to learn more about interactive tables.';\n",
              "          element.innerHTML = '';\n",
              "          dataTable['output_type'] = 'display_data';\n",
              "          await google.colab.output.renderOutput(dataTable, element);\n",
              "          const docLink = document.createElement('div');\n",
              "          docLink.innerHTML = docLinkHtml;\n",
              "          element.appendChild(docLink);\n",
              "        }\n",
              "      </script>\n",
              "    </div>\n",
              "  </div>\n",
              "  "
            ]
          },
          "metadata": {},
          "execution_count": 179
        }
      ]
    },
    {
      "cell_type": "markdown",
      "source": [
        "### Modelni baholash\n",
        "`RF_model`\n",
        "\n",
        "---\n"
      ],
      "metadata": {
        "id": "5ZiRhx4j2C4O"
      }
    },
    {
      "cell_type": "code",
      "source": [
        "from sklearn.metrics import mean_absolute_error, mean_squared_error\n",
        "\n",
        "mae = mean_absolute_error\n",
        "mse = mean_squared_error"
      ],
      "metadata": {
        "id": "hMGejFe12ASS"
      },
      "execution_count": 180,
      "outputs": []
    },
    {
      "cell_type": "code",
      "source": [
        "print('MAE RF_model =', mae(y_test, y_predicted))\n",
        "print('RMSE RF_model =', np.sqrt(mse(y_test, y_predicted)))"
      ],
      "metadata": {
        "colab": {
          "base_uri": "https://localhost:8080/"
        },
        "outputId": "0eafe1d6-0c63-4430-bfdd-ce5fab9df8a4",
        "id": "NmyAZc0h2ASi"
      },
      "execution_count": 181,
      "outputs": [
        {
          "output_type": "stream",
          "name": "stdout",
          "text": [
            "MAE RF_model = 11228.74154917006\n",
            "RMSE RF_model = 17107.98169821295\n"
          ]
        }
      ]
    },
    {
      "cell_type": "code",
      "source": [
        ""
      ],
      "metadata": {
        "id": "8lKYV39jB42b"
      },
      "execution_count": 181,
      "outputs": []
    },
    {
      "cell_type": "markdown",
      "source": [
        "## **Decision Tree**\n",
        "\n",
        "---\n"
      ],
      "metadata": {
        "id": "z7gzNkis2gDp"
      }
    },
    {
      "cell_type": "code",
      "source": [
        "from sklearn.tree import DecisionTreeRegressor\n",
        "\n",
        "Tree_model = DecisionTreeRegressor()"
      ],
      "metadata": {
        "id": "v0oKfOXlz1-p"
      },
      "execution_count": 182,
      "outputs": []
    },
    {
      "cell_type": "code",
      "source": [
        "# Model Training\n",
        "Tree_model.fit(X_prepared, y)"
      ],
      "metadata": {
        "colab": {
          "base_uri": "https://localhost:8080/"
        },
        "id": "lMW6AMmFz18a",
        "outputId": "b522e1b8-caa2-4458-889e-c6d0bc7d1007"
      },
      "execution_count": 183,
      "outputs": [
        {
          "output_type": "execute_result",
          "data": {
            "text/plain": [
              "DecisionTreeRegressor()"
            ]
          },
          "metadata": {},
          "execution_count": 183
        }
      ]
    },
    {
      "cell_type": "code",
      "source": [
        "# Predict\n",
        "y_predicted = Tree_model.predict(X_test_prepared)"
      ],
      "metadata": {
        "id": "WPoZ6gxEz16B"
      },
      "execution_count": 184,
      "outputs": []
    },
    {
      "cell_type": "code",
      "source": [
        "pd.DataFrame({'Prognoz':y_test, 'Asl qiymat':y_predicted})"
      ],
      "metadata": {
        "colab": {
          "base_uri": "https://localhost:8080/",
          "height": 424
        },
        "id": "Ch5wb9Awz13q",
        "outputId": "81c859df-8129-4ed2-a859-69a9f67cd71f"
      },
      "execution_count": 185,
      "outputs": [
        {
          "output_type": "execute_result",
          "data": {
            "text/plain": [
              "      Prognoz  Asl qiymat\n",
              "1078    48000     45000.0\n",
              "3170    63000     43500.0\n",
              "4069    84000     41500.0\n",
              "1168    30500     39500.0\n",
              "5320    53000     40500.0\n",
              "...       ...         ...\n",
              "4978    34500     42500.0\n",
              "3432    62000     86000.0\n",
              "3593    35000     40000.0\n",
              "7490    35000     40000.0\n",
              "5244    62000     62000.0\n",
              "\n",
              "[1826 rows x 2 columns]"
            ],
            "text/html": [
              "\n",
              "  <div id=\"df-f7953ff0-0b51-4c72-8d3e-718bafaa6694\">\n",
              "    <div class=\"colab-df-container\">\n",
              "      <div>\n",
              "<style scoped>\n",
              "    .dataframe tbody tr th:only-of-type {\n",
              "        vertical-align: middle;\n",
              "    }\n",
              "\n",
              "    .dataframe tbody tr th {\n",
              "        vertical-align: top;\n",
              "    }\n",
              "\n",
              "    .dataframe thead th {\n",
              "        text-align: right;\n",
              "    }\n",
              "</style>\n",
              "<table border=\"1\" class=\"dataframe\">\n",
              "  <thead>\n",
              "    <tr style=\"text-align: right;\">\n",
              "      <th></th>\n",
              "      <th>Prognoz</th>\n",
              "      <th>Asl qiymat</th>\n",
              "    </tr>\n",
              "  </thead>\n",
              "  <tbody>\n",
              "    <tr>\n",
              "      <th>1078</th>\n",
              "      <td>48000</td>\n",
              "      <td>45000.0</td>\n",
              "    </tr>\n",
              "    <tr>\n",
              "      <th>3170</th>\n",
              "      <td>63000</td>\n",
              "      <td>43500.0</td>\n",
              "    </tr>\n",
              "    <tr>\n",
              "      <th>4069</th>\n",
              "      <td>84000</td>\n",
              "      <td>41500.0</td>\n",
              "    </tr>\n",
              "    <tr>\n",
              "      <th>1168</th>\n",
              "      <td>30500</td>\n",
              "      <td>39500.0</td>\n",
              "    </tr>\n",
              "    <tr>\n",
              "      <th>5320</th>\n",
              "      <td>53000</td>\n",
              "      <td>40500.0</td>\n",
              "    </tr>\n",
              "    <tr>\n",
              "      <th>...</th>\n",
              "      <td>...</td>\n",
              "      <td>...</td>\n",
              "    </tr>\n",
              "    <tr>\n",
              "      <th>4978</th>\n",
              "      <td>34500</td>\n",
              "      <td>42500.0</td>\n",
              "    </tr>\n",
              "    <tr>\n",
              "      <th>3432</th>\n",
              "      <td>62000</td>\n",
              "      <td>86000.0</td>\n",
              "    </tr>\n",
              "    <tr>\n",
              "      <th>3593</th>\n",
              "      <td>35000</td>\n",
              "      <td>40000.0</td>\n",
              "    </tr>\n",
              "    <tr>\n",
              "      <th>7490</th>\n",
              "      <td>35000</td>\n",
              "      <td>40000.0</td>\n",
              "    </tr>\n",
              "    <tr>\n",
              "      <th>5244</th>\n",
              "      <td>62000</td>\n",
              "      <td>62000.0</td>\n",
              "    </tr>\n",
              "  </tbody>\n",
              "</table>\n",
              "<p>1826 rows × 2 columns</p>\n",
              "</div>\n",
              "      <button class=\"colab-df-convert\" onclick=\"convertToInteractive('df-f7953ff0-0b51-4c72-8d3e-718bafaa6694')\"\n",
              "              title=\"Convert this dataframe to an interactive table.\"\n",
              "              style=\"display:none;\">\n",
              "        \n",
              "  <svg xmlns=\"http://www.w3.org/2000/svg\" height=\"24px\"viewBox=\"0 0 24 24\"\n",
              "       width=\"24px\">\n",
              "    <path d=\"M0 0h24v24H0V0z\" fill=\"none\"/>\n",
              "    <path d=\"M18.56 5.44l.94 2.06.94-2.06 2.06-.94-2.06-.94-.94-2.06-.94 2.06-2.06.94zm-11 1L8.5 8.5l.94-2.06 2.06-.94-2.06-.94L8.5 2.5l-.94 2.06-2.06.94zm10 10l.94 2.06.94-2.06 2.06-.94-2.06-.94-.94-2.06-.94 2.06-2.06.94z\"/><path d=\"M17.41 7.96l-1.37-1.37c-.4-.4-.92-.59-1.43-.59-.52 0-1.04.2-1.43.59L10.3 9.45l-7.72 7.72c-.78.78-.78 2.05 0 2.83L4 21.41c.39.39.9.59 1.41.59.51 0 1.02-.2 1.41-.59l7.78-7.78 2.81-2.81c.8-.78.8-2.07 0-2.86zM5.41 20L4 18.59l7.72-7.72 1.47 1.35L5.41 20z\"/>\n",
              "  </svg>\n",
              "      </button>\n",
              "      \n",
              "  <style>\n",
              "    .colab-df-container {\n",
              "      display:flex;\n",
              "      flex-wrap:wrap;\n",
              "      gap: 12px;\n",
              "    }\n",
              "\n",
              "    .colab-df-convert {\n",
              "      background-color: #E8F0FE;\n",
              "      border: none;\n",
              "      border-radius: 50%;\n",
              "      cursor: pointer;\n",
              "      display: none;\n",
              "      fill: #1967D2;\n",
              "      height: 32px;\n",
              "      padding: 0 0 0 0;\n",
              "      width: 32px;\n",
              "    }\n",
              "\n",
              "    .colab-df-convert:hover {\n",
              "      background-color: #E2EBFA;\n",
              "      box-shadow: 0px 1px 2px rgba(60, 64, 67, 0.3), 0px 1px 3px 1px rgba(60, 64, 67, 0.15);\n",
              "      fill: #174EA6;\n",
              "    }\n",
              "\n",
              "    [theme=dark] .colab-df-convert {\n",
              "      background-color: #3B4455;\n",
              "      fill: #D2E3FC;\n",
              "    }\n",
              "\n",
              "    [theme=dark] .colab-df-convert:hover {\n",
              "      background-color: #434B5C;\n",
              "      box-shadow: 0px 1px 3px 1px rgba(0, 0, 0, 0.15);\n",
              "      filter: drop-shadow(0px 1px 2px rgba(0, 0, 0, 0.3));\n",
              "      fill: #FFFFFF;\n",
              "    }\n",
              "  </style>\n",
              "\n",
              "      <script>\n",
              "        const buttonEl =\n",
              "          document.querySelector('#df-f7953ff0-0b51-4c72-8d3e-718bafaa6694 button.colab-df-convert');\n",
              "        buttonEl.style.display =\n",
              "          google.colab.kernel.accessAllowed ? 'block' : 'none';\n",
              "\n",
              "        async function convertToInteractive(key) {\n",
              "          const element = document.querySelector('#df-f7953ff0-0b51-4c72-8d3e-718bafaa6694');\n",
              "          const dataTable =\n",
              "            await google.colab.kernel.invokeFunction('convertToInteractive',\n",
              "                                                     [key], {});\n",
              "          if (!dataTable) return;\n",
              "\n",
              "          const docLinkHtml = 'Like what you see? Visit the ' +\n",
              "            '<a target=\"_blank\" href=https://colab.research.google.com/notebooks/data_table.ipynb>data table notebook</a>'\n",
              "            + ' to learn more about interactive tables.';\n",
              "          element.innerHTML = '';\n",
              "          dataTable['output_type'] = 'display_data';\n",
              "          await google.colab.output.renderOutput(dataTable, element);\n",
              "          const docLink = document.createElement('div');\n",
              "          docLink.innerHTML = docLinkHtml;\n",
              "          element.appendChild(docLink);\n",
              "        }\n",
              "      </script>\n",
              "    </div>\n",
              "  </div>\n",
              "  "
            ]
          },
          "metadata": {},
          "execution_count": 185
        }
      ]
    },
    {
      "cell_type": "markdown",
      "source": [
        "### Modelni baholash\n",
        "`Tree_model`\n",
        "\n",
        "---\n"
      ],
      "metadata": {
        "id": "Sp7Bdt4A30Id"
      }
    },
    {
      "cell_type": "code",
      "source": [
        "from sklearn.metrics import mean_absolute_error, mean_squared_error\n",
        "\n",
        "mae = mean_absolute_error\n",
        "mse = mean_squared_error"
      ],
      "metadata": {
        "id": "nBIfR-jMz11K"
      },
      "execution_count": 186,
      "outputs": []
    },
    {
      "cell_type": "code",
      "source": [
        "print('MAE Tree_model =', mae(y_test, y_predicted))\n",
        "print('RMSE Tree_model =', np.sqrt(mse(y_test, y_predicted)))"
      ],
      "metadata": {
        "colab": {
          "base_uri": "https://localhost:8080/"
        },
        "id": "FTtS5j0J3rgj",
        "outputId": "7f327875-7d81-4149-9b7a-8f4792ab75ae"
      },
      "execution_count": 187,
      "outputs": [
        {
          "output_type": "stream",
          "name": "stdout",
          "text": [
            "MAE Tree_model = 15366.872946330777\n",
            "RMSE Tree_model = 24006.874545597027\n"
          ]
        }
      ]
    },
    {
      "cell_type": "code",
      "source": [
        ""
      ],
      "metadata": {
        "id": "yS8hnUNL3reA"
      },
      "execution_count": 187,
      "outputs": []
    },
    {
      "cell_type": "markdown",
      "source": [
        "# **Pickle**"
      ],
      "metadata": {
        "id": "v0U7IBMtDQ9Y"
      }
    },
    {
      "cell_type": "code",
      "source": [
        "import pickle"
      ],
      "metadata": {
        "id": "lnoaZgWeBPuk"
      },
      "execution_count": 188,
      "outputs": []
    },
    {
      "cell_type": "code",
      "source": [
        "# LR modelni saqlash\n",
        "filename = 'LR_model.pql'\n",
        "with open(filename, 'wb') as file:\n",
        "  pickle.dump(LR_model, file)"
      ],
      "metadata": {
        "id": "Mq2LVi5FFSlN"
      },
      "execution_count": 189,
      "outputs": []
    },
    {
      "cell_type": "code",
      "source": [
        "# RF modelni saqlash\n",
        "filename = 'RF_model.pql'\n",
        "with open(filename, 'wb' ) as file:\n",
        "  pickle.dump(RF_model, file)"
      ],
      "metadata": {
        "id": "OrLijUc8IpKL"
      },
      "execution_count": 190,
      "outputs": []
    },
    {
      "cell_type": "code",
      "source": [
        ""
      ],
      "metadata": {
        "id": "PW0i8urXJAKK"
      },
      "execution_count": 190,
      "outputs": []
    },
    {
      "cell_type": "markdown",
      "source": [
        "# **Cross-Validation**"
      ],
      "metadata": {
        "id": "zhyhDWurtHkq"
      }
    },
    {
      "cell_type": "code",
      "source": [
        "from sklearn.model_selection import cross_val_score"
      ],
      "metadata": {
        "id": "-yAVBGLi5SsH"
      },
      "execution_count": 191,
      "outputs": []
    },
    {
      "cell_type": "code",
      "source": [
        "X = df.drop('price', axis=1)\n",
        "y = df['price'].copy()\n",
        "\n",
        "X_prepared = full_pipeline.fit_transform(X)"
      ],
      "metadata": {
        "id": "pHpjcOQ04UBB"
      },
      "execution_count": 192,
      "outputs": []
    },
    {
      "cell_type": "markdown",
      "source": [
        "`Validation natijalarini ko'rsatish uchun sodda funksiya yasab olamiz`"
      ],
      "metadata": {
        "id": "e1J3ATSc4thu"
      }
    },
    {
      "cell_type": "code",
      "source": [
        "def display_scores(scores):\n",
        "  print(\"Scores:\", scores)\n",
        "  print(\"Mean:\", scores.mean())\n",
        "  print(\"Std_div:\", scores.std())"
      ],
      "metadata": {
        "id": "92sXN8mQ4ok2"
      },
      "execution_count": 193,
      "outputs": []
    },
    {
      "cell_type": "markdown",
      "source": [
        "### **LR_model**\n",
        "\n",
        "---\n"
      ],
      "metadata": {
        "id": "iNfp2OjN-7qB"
      }
    },
    {
      "cell_type": "code",
      "source": [
        "scores = cross_val_score(LR_model, X_prepared, y, scoring='neg_mean_squared_error', cv=10)\n",
        "LR_rmse_scores = np.sqrt(-scores)"
      ],
      "metadata": {
        "id": "7jRd1QnS5KF9"
      },
      "execution_count": 194,
      "outputs": []
    },
    {
      "cell_type": "code",
      "source": [
        "display_scores(LR_rmse_scores)"
      ],
      "metadata": {
        "colab": {
          "base_uri": "https://localhost:8080/"
        },
        "id": "4vG_B8kg_i7I",
        "outputId": "7c95f6ba-3e9b-4048-c47b-2d0e19da2dca"
      },
      "execution_count": 195,
      "outputs": [
        {
          "output_type": "stream",
          "name": "stdout",
          "text": [
            "Scores: [15447.45381931 17088.52775264 22035.63091665 23320.58681217\n",
            " 23292.62705711 23199.0117445  19492.0423855  17620.86310569\n",
            " 18028.14650556 16186.69451818]\n",
            "Mean: 19571.158461731236\n",
            "Std_div: 2965.7423018666823\n"
          ]
        }
      ]
    },
    {
      "cell_type": "markdown",
      "source": [
        "### **RF_model**\n",
        "\n",
        "---\n"
      ],
      "metadata": {
        "id": "xrcUJZq1_yXL"
      }
    },
    {
      "cell_type": "code",
      "source": [
        "scores = cross_val_score(RF_model, X_prepared, y, scoring='neg_mean_squared_error', cv=5)\n",
        "RF_rmse_scores = np.sqrt(-scores)"
      ],
      "metadata": {
        "id": "k17gSz1k_pcd"
      },
      "execution_count": 196,
      "outputs": []
    },
    {
      "cell_type": "code",
      "source": [
        "display_scores(RF_rmse_scores)"
      ],
      "metadata": {
        "colab": {
          "base_uri": "https://localhost:8080/"
        },
        "id": "ceBHgqjLAZAs",
        "outputId": "9bed8ff2-3ea4-4b1f-ca59-24c87a0b00a8"
      },
      "execution_count": 197,
      "outputs": [
        {
          "output_type": "stream",
          "name": "stdout",
          "text": [
            "Scores: [14174.24711149 20456.95048148 19139.40587036 16867.39337568\n",
            " 15126.57996192]\n",
            "Mean: 17152.915360183793\n",
            "Std_div: 2363.1680056846712\n"
          ]
        }
      ]
    },
    {
      "cell_type": "markdown",
      "source": [
        "### **Tree_model**\n",
        "\n",
        "---\n"
      ],
      "metadata": {
        "id": "3QReEVa7A76y"
      }
    },
    {
      "cell_type": "code",
      "source": [
        "scores = cross_val_score(Tree_model, X_prepared, y, scoring='neg_mean_squared_error', cv=5)\n",
        "Tree_rmse_scores = np.sqrt(-scores)"
      ],
      "metadata": {
        "id": "r2Ikts-zAdQu"
      },
      "execution_count": 198,
      "outputs": []
    },
    {
      "cell_type": "code",
      "source": [
        "display_scores(Tree_rmse_scores)"
      ],
      "metadata": {
        "colab": {
          "base_uri": "https://localhost:8080/"
        },
        "id": "Tw5Ke8Z_BN-x",
        "outputId": "b96e3dd4-1ef7-4cf1-e818-474814fdef26"
      },
      "execution_count": 199,
      "outputs": [
        {
          "output_type": "stream",
          "name": "stdout",
          "text": [
            "Scores: [21770.46461687 28018.29357984 24293.46646974 24304.27287925\n",
            " 20578.35445439]\n",
            "Mean: 23792.97040001757\n",
            "Std_div: 2560.842354997799\n"
          ]
        }
      ]
    }
  ]
}